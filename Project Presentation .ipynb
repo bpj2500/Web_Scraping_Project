{
 "cells": [
  {
   "cell_type": "markdown",
   "metadata": {},
   "source": [
    "## Exploratory Data Analysis of Real Estate Listings in Manhattan  \n",
    "\n"
   ]
  },
  {
   "cell_type": "markdown",
   "metadata": {},
   "source": [
    "### Introduction  \n",
    "\n",
    "Using Python's Scrapy package, the goal of this project was to conduct an exploratory data analysis of on residential real estate lisitngs in Manhattan. The EDA aims to answer three questions regarding real-estate listings:  \n",
    "\n",
    "- What are some of the general trends in real-estate listings in Manhattan? \n",
    "- What factors can affect the price of a Manhattan listing?   \n",
    "- How affordable and financially feasible is purchasing resdiential real-estate for the average New Yorker?  \n",
    "\n",
    "The data for this project was scrapped from Realtor.com and consists of 1663 individual listings containing information on the street address, price, number of baths & bedrooms, property type, and square footage. "
   ]
  },
  {
   "cell_type": "markdown",
   "metadata": {},
   "source": [
    "### Part I: Overview of the Data "
   ]
  },
  {
   "cell_type": "code",
   "execution_count": null,
   "metadata": {},
   "outputs": [],
   "source": []
  }
 ],
 "metadata": {
  "kernelspec": {
   "display_name": "Python 3",
   "language": "python",
   "name": "python3"
  },
  "language_info": {
   "codemirror_mode": {
    "name": "ipython",
    "version": 3
   },
   "file_extension": ".py",
   "mimetype": "text/x-python",
   "name": "python",
   "nbconvert_exporter": "python",
   "pygments_lexer": "ipython3",
   "version": "3.7.4"
  }
 },
 "nbformat": 4,
 "nbformat_minor": 2
}
