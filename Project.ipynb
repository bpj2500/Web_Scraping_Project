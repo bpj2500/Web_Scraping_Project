{
 "cells": [
  {
   "cell_type": "code",
   "execution_count": 1,
   "metadata": {},
   "outputs": [],
   "source": [
    "\n",
    "import pandas as pd \n",
    "import numpy as np  \n",
    "from scipy import stats  \n",
    "import seaborn as sns \n",
    "from matplotlib import pyplot as plt\n",
    "%matplotlib inline \n",
    "\n",
    "plt.style.use('ggplot')"
   ]
  },
  {
   "cell_type": "code",
   "execution_count": 4,
   "metadata": {},
   "outputs": [
    {
     "data": {
      "text/html": [
       "<div>\n",
       "<style scoped>\n",
       "    .dataframe tbody tr th:only-of-type {\n",
       "        vertical-align: middle;\n",
       "    }\n",
       "\n",
       "    .dataframe tbody tr th {\n",
       "        vertical-align: top;\n",
       "    }\n",
       "\n",
       "    .dataframe thead th {\n",
       "        text-align: right;\n",
       "    }\n",
       "</style>\n",
       "<table border=\"1\" class=\"dataframe\">\n",
       "  <thead>\n",
       "    <tr style=\"text-align: right;\">\n",
       "      <th></th>\n",
       "      <th>area</th>\n",
       "      <th>baths</th>\n",
       "      <th>beds</th>\n",
       "      <th>have_beds</th>\n",
       "      <th>price</th>\n",
       "      <th>property_type</th>\n",
       "      <th>sqft</th>\n",
       "      <th>year_built</th>\n",
       "      <th>zipcode</th>\n",
       "      <th>high_payment</th>\n",
       "      <th>low_payment</th>\n",
       "      <th>low_monthly</th>\n",
       "      <th>high_monthly</th>\n",
       "      <th>annual_income_high</th>\n",
       "      <th>annual_income_low</th>\n",
       "      <th>total_rooms</th>\n",
       "    </tr>\n",
       "  </thead>\n",
       "  <tbody>\n",
       "    <tr>\n",
       "      <td>0</td>\n",
       "      <td>Manhattan, NY, 10023</td>\n",
       "      <td>1.0</td>\n",
       "      <td>0.0</td>\n",
       "      <td>Studio</td>\n",
       "      <td>555000</td>\n",
       "      <td>Co-op</td>\n",
       "      <td>570</td>\n",
       "      <td>1964.0</td>\n",
       "      <td>10023</td>\n",
       "      <td>111000.0</td>\n",
       "      <td>27750.0</td>\n",
       "      <td>1465.0</td>\n",
       "      <td>1233.0</td>\n",
       "      <td>49320</td>\n",
       "      <td>58600</td>\n",
       "      <td>1.0</td>\n",
       "    </tr>\n",
       "    <tr>\n",
       "      <td>1</td>\n",
       "      <td>New York, NY, 10014</td>\n",
       "      <td>1.0</td>\n",
       "      <td>0.0</td>\n",
       "      <td>Studio</td>\n",
       "      <td>499000</td>\n",
       "      <td>Co-op</td>\n",
       "      <td>NaN</td>\n",
       "      <td>1940.0</td>\n",
       "      <td>10014</td>\n",
       "      <td>99800.0</td>\n",
       "      <td>24950.0</td>\n",
       "      <td>1317.0</td>\n",
       "      <td>1109.0</td>\n",
       "      <td>44360</td>\n",
       "      <td>52680</td>\n",
       "      <td>1.0</td>\n",
       "    </tr>\n",
       "    <tr>\n",
       "      <td>2</td>\n",
       "      <td>New York, NY, 10022</td>\n",
       "      <td>4.5</td>\n",
       "      <td>3.0</td>\n",
       "      <td>bed</td>\n",
       "      <td>16995000</td>\n",
       "      <td>Condo</td>\n",
       "      <td>4,003</td>\n",
       "      <td>2015.0</td>\n",
       "      <td>10022</td>\n",
       "      <td>3399000.0</td>\n",
       "      <td>849750.0</td>\n",
       "      <td>44848.0</td>\n",
       "      <td>37767.0</td>\n",
       "      <td>1510680</td>\n",
       "      <td>1793920</td>\n",
       "      <td>7.5</td>\n",
       "    </tr>\n",
       "    <tr>\n",
       "      <td>3</td>\n",
       "      <td>Manhattan, NY, 10001</td>\n",
       "      <td>1.0</td>\n",
       "      <td>0.0</td>\n",
       "      <td>Studio</td>\n",
       "      <td>325000</td>\n",
       "      <td>Co-op</td>\n",
       "      <td>14,000</td>\n",
       "      <td>1929.0</td>\n",
       "      <td>10001</td>\n",
       "      <td>65000.0</td>\n",
       "      <td>16250.0</td>\n",
       "      <td>858.0</td>\n",
       "      <td>722.0</td>\n",
       "      <td>28880</td>\n",
       "      <td>34320</td>\n",
       "      <td>1.0</td>\n",
       "    </tr>\n",
       "    <tr>\n",
       "      <td>4</td>\n",
       "      <td>Manhattan, NY, 10022</td>\n",
       "      <td>2.0</td>\n",
       "      <td>2.0</td>\n",
       "      <td>bed</td>\n",
       "      <td>895000</td>\n",
       "      <td>Co-op</td>\n",
       "      <td>850</td>\n",
       "      <td>1962.0</td>\n",
       "      <td>10022</td>\n",
       "      <td>179000.0</td>\n",
       "      <td>44750.0</td>\n",
       "      <td>2362.0</td>\n",
       "      <td>1989.0</td>\n",
       "      <td>79560</td>\n",
       "      <td>94480</td>\n",
       "      <td>4.0</td>\n",
       "    </tr>\n",
       "  </tbody>\n",
       "</table>\n",
       "</div>"
      ],
      "text/plain": [
       "                   area  baths  beds have_beds     price property_type  \\\n",
       "0  Manhattan, NY, 10023    1.0   0.0    Studio    555000         Co-op   \n",
       "1   New York, NY, 10014    1.0   0.0    Studio    499000         Co-op   \n",
       "2   New York, NY, 10022    4.5   3.0       bed  16995000         Condo   \n",
       "3  Manhattan, NY, 10001    1.0   0.0    Studio    325000         Co-op   \n",
       "4  Manhattan, NY, 10022    2.0   2.0       bed    895000         Co-op   \n",
       "\n",
       "     sqft  year_built  zipcode  high_payment  low_payment  low_monthly  \\\n",
       "0     570      1964.0    10023      111000.0      27750.0       1465.0   \n",
       "1     NaN      1940.0    10014       99800.0      24950.0       1317.0   \n",
       "2   4,003      2015.0    10022     3399000.0     849750.0      44848.0   \n",
       "3  14,000      1929.0    10001       65000.0      16250.0        858.0   \n",
       "4     850      1962.0    10022      179000.0      44750.0       2362.0   \n",
       "\n",
       "   high_monthly  annual_income_high  annual_income_low  total_rooms  \n",
       "0        1233.0               49320              58600          1.0  \n",
       "1        1109.0               44360              52680          1.0  \n",
       "2       37767.0             1510680            1793920          7.5  \n",
       "3         722.0               28880              34320          1.0  \n",
       "4        1989.0               79560              94480          4.0  "
      ]
     },
     "execution_count": 4,
     "metadata": {},
     "output_type": "execute_result"
    }
   ],
   "source": [
    "#reading in the data \n",
    "df = pd.read_csv(\"real_estate_data.csv\",) \n",
    "\n",
    "df = df.drop(\"Unnamed: 0\", axis = 1)  \n",
    "\n",
    "df['property_type'] = df['property_type'].str.replace('Condop', 'Condo').str.replace('Townhome','Townhouse')\n",
    "\n",
    "df['total_rooms'] =  df['baths'] + df['beds']\n",
    "df.head()"
   ]
  },
  {
   "cell_type": "code",
   "execution_count": 17,
   "metadata": {
    "scrolled": true
   },
   "outputs": [
    {
     "data": {
      "text/plain": [
       "<matplotlib.axes._subplots.AxesSubplot at 0x120ef58e9c8>"
      ]
     },
     "execution_count": 17,
     "metadata": {},
     "output_type": "execute_result"
    },
    {
     "data": {
      "image/png": "[encoded data removed]",
      "text/plain": [
       "<Figure size 432x288 with 1 Axes>"
      ]
     },
     "metadata": {
      "needs_background": "light"
     },
     "output_type": "display_data"
    }
   ],
   "source": [
    "#looking at the number of the different types of houses \n",
    "#Manhattan largely consists of co-ops and condos  \n",
    "#make boxplots of this like property type vs price \n",
    "group = df.groupby('property_type')\n",
    "\n",
    "#barplot of the number of property types\n",
    "df['property_type'].value_counts().plot.bar()\n",
    "\n",
    "#group['price'].median().sort_values().plot.bar()\n",
    "#group['total_rooms'].median().sort_values(ascending = False).plot.bar()"
   ]
  },
  {
   "cell_type": "code",
   "execution_count": null,
   "metadata": {},
   "outputs": [],
   "source": [
    "#comeback to zipcode "
   ]
  },
  {
   "cell_type": "code",
   "execution_count": 18,
   "metadata": {},
   "outputs": [
    {
     "data": {
      "text/plain": [
       "<seaborn.axisgrid.FacetGrid at 0x120ef94c4c8>"
      ]
     },
     "execution_count": 18,
     "metadata": {},
     "output_type": "execute_result"
    },
    {
     "data": {
      "image/png": "[encoded data removed]",
      "text/plain": [
       "<Figure size 360x360 with 1 Axes>"
      ]
     },
     "metadata": {
      "needs_background": "light"
     },
     "output_type": "display_data"
    }
   ],
   "source": [
    "#looking at rooms vs price \n",
    "major_props = ['Co-op', 'Condo']\n",
    "df_filt = df[df['property_type'].isin(major_props)] \n",
    "\n",
    "#sns.lmplot('total_rooms', 'price', df_filt, col = 'property_type')\n",
    "sns.lmplot('total_rooms', 'price', df_filt)"
   ]
  },
  {
   "cell_type": "code",
   "execution_count": 59,
   "metadata": {},
   "outputs": [
    {
     "data": {
      "text/plain": [
       "<seaborn.axisgrid.FacetGrid at 0x1d3663a07c8>"
      ]
     },
     "execution_count": 59,
     "metadata": {},
     "output_type": "execute_result"
    },
    {
     "data": {
      "image/png": "[encoded data removed]",
      "text/plain": [
       "<Figure size 576x288 with 2 Axes>"
      ]
     },
     "metadata": {},
     "output_type": "display_data"
    }
   ],
   "source": [
    "#looking at rooms by property type  \n",
    "\n",
    "plotgrid = sns.FacetGrid(df_filt, col = \"property_type\", hue = \"property_type\", height = 4) \n",
    "\n",
    "plotgrid.map(sns.distplot, 'total_rooms')"
   ]
  },
  {
   "cell_type": "code",
   "execution_count": 19,
   "metadata": {},
   "outputs": [
    {
     "name": "stderr",
     "output_type": "stream",
     "text": [
      "C:\\Users\\bpj25\\Anaconda3\\lib\\site-packages\\ipykernel_launcher.py:5: SettingWithCopyWarning: \n",
      "A value is trying to be set on a copy of a slice from a DataFrame.\n",
      "Try using .loc[row_indexer,col_indexer] = value instead\n",
      "\n",
      "See the caveats in the documentation: http://pandas.pydata.org/pandas-docs/stable/user_guide/indexing.html#returning-a-view-versus-a-copy\n",
      "  \"\"\"\n"
     ]
    },
    {
     "data": {
      "text/plain": [
       "<seaborn.axisgrid.FacetGrid at 0x120eff621c8>"
      ]
     },
     "execution_count": 19,
     "metadata": {},
     "output_type": "execute_result"
    },
    {
     "data": {
      "image/png": "[encoded data removed]",
      "text/plain": [
       "<Figure size 360x360 with 1 Axes>"
      ]
     },
     "metadata": {
      "needs_background": "light"
     },
     "output_type": "display_data"
    }
   ],
   "source": [
    "#looking at sqft vs price \n",
    "#cleaning the sqft column\n",
    "df_sqft = df.dropna(axis = 0, how = 'any') \n",
    "sqft = df_sqft['sqft'].str.replace(',','')\n",
    "df_sqft['sqft'] = [int(x) for x in sqft]\n",
    "\n",
    "sns.lmplot('sqft', 'price', df_sqft)"
   ]
  },
  {
   "cell_type": "code",
   "execution_count": 70,
   "metadata": {},
   "outputs": [
    {
     "data": {
      "text/plain": [
       "<seaborn.axisgrid.FacetGrid at 0x1d367bd19c8>"
      ]
     },
     "execution_count": 70,
     "metadata": {},
     "output_type": "execute_result"
    },
    {
     "data": {
      "image/png": "[encoded data removed]",
      "text/plain": [
       "<Figure size 360x360 with 1 Axes>"
      ]
     },
     "metadata": {},
     "output_type": "display_data"
    }
   ],
   "source": [
    "sns.lmplot('sqft', 'price', df_sqft,)"
   ]
  },
  {
   "cell_type": "code",
   "execution_count": 71,
   "metadata": {},
   "outputs": [
    {
     "data": {
      "text/plain": [
       "<seaborn.axisgrid.FacetGrid at 0x1d368168a48>"
      ]
     },
     "execution_count": 71,
     "metadata": {},
     "output_type": "execute_result"
    },
    {
     "data": {
      "image/png": "[encoded data removed]",
      "text/plain": [
       "<Figure size 360x360 with 1 Axes>"
      ]
     },
     "metadata": {},
     "output_type": "display_data"
    }
   ],
   "source": [
    "sns.lmplot('year_built', 'price', df_sqft) \n",
    "#Looking at the correlation between year estate was built and price\n"
   ]
  },
  {
   "cell_type": "code",
   "execution_count": 72,
   "metadata": {},
   "outputs": [
    {
     "data": {
      "text/plain": [
       "0       1964.0\n",
       "2       2015.0\n",
       "3       1929.0\n",
       "4       1962.0\n",
       "5       1959.0\n",
       "         ...  \n",
       "1652    1928.0\n",
       "1654    1917.0\n",
       "1655    1910.0\n",
       "1657    1975.0\n",
       "1661    1941.0\n",
       "Name: year_built, Length: 895, dtype: float64"
      ]
     },
     "execution_count": 72,
     "metadata": {},
     "output_type": "execute_result"
    }
   ],
   "source": [
    "#Looking at the correlation between year estate was built and price\n",
    "df_sqft['year_built']"
   ]
  },
  {
   "cell_type": "code",
   "execution_count": 85,
   "metadata": {},
   "outputs": [
    {
     "name": "stdout",
     "output_type": "stream",
     "text": [
      "zipcode\n",
      "10001     25\n",
      "10002     43\n",
      "10003     70\n",
      "10004      8\n",
      "10005     25\n",
      "10006      5\n",
      "10007     31\n",
      "10009     24\n",
      "10010     63\n",
      "10011     93\n",
      "10012     26\n",
      "10013     49\n",
      "10014     58\n",
      "10016    107\n",
      "10017     39\n",
      "10018      1\n",
      "10019     86\n",
      "10021     95\n",
      "10022    105\n",
      "10023     91\n",
      "10024     71\n",
      "10025     67\n",
      "10026     26\n",
      "10027     24\n",
      "10028     65\n",
      "10029     11\n",
      "10030      8\n",
      "10031      7\n",
      "10032      5\n",
      "10033     17\n",
      "10035     12\n",
      "10036     19\n",
      "10037      4\n",
      "10038     19\n",
      "10039      3\n",
      "10040      4\n",
      "10044      4\n",
      "10065     75\n",
      "10069     39\n",
      "10075     47\n",
      "10128     76\n",
      "10280     12\n",
      "10282      3\n",
      "dtype: int64\n"
     ]
    },
    {
     "data": {
      "text/html": [
       "<div>\n",
       "<style scoped>\n",
       "    .dataframe tbody tr th:only-of-type {\n",
       "        vertical-align: middle;\n",
       "    }\n",
       "\n",
       "    .dataframe tbody tr th {\n",
       "        vertical-align: top;\n",
       "    }\n",
       "\n",
       "    .dataframe thead th {\n",
       "        text-align: right;\n",
       "    }\n",
       "</style>\n",
       "<table border=\"1\" class=\"dataframe\">\n",
       "  <thead>\n",
       "    <tr style=\"text-align: right;\">\n",
       "      <th></th>\n",
       "      <th>price</th>\n",
       "    </tr>\n",
       "    <tr>\n",
       "      <th>zipcode</th>\n",
       "      <th></th>\n",
       "    </tr>\n",
       "  </thead>\n",
       "  <tbody>\n",
       "    <tr>\n",
       "      <td>10001</td>\n",
       "      <td>2295000.0</td>\n",
       "    </tr>\n",
       "    <tr>\n",
       "      <td>10002</td>\n",
       "      <td>870000.0</td>\n",
       "    </tr>\n",
       "    <tr>\n",
       "      <td>10003</td>\n",
       "      <td>1372500.0</td>\n",
       "    </tr>\n",
       "    <tr>\n",
       "      <td>10004</td>\n",
       "      <td>856500.0</td>\n",
       "    </tr>\n",
       "    <tr>\n",
       "      <td>10005</td>\n",
       "      <td>1550000.0</td>\n",
       "    </tr>\n",
       "    <tr>\n",
       "      <td>10006</td>\n",
       "      <td>1720000.0</td>\n",
       "    </tr>\n",
       "    <tr>\n",
       "      <td>10007</td>\n",
       "      <td>4495000.0</td>\n",
       "    </tr>\n",
       "    <tr>\n",
       "      <td>10009</td>\n",
       "      <td>1202500.0</td>\n",
       "    </tr>\n",
       "    <tr>\n",
       "      <td>10010</td>\n",
       "      <td>1895000.0</td>\n",
       "    </tr>\n",
       "    <tr>\n",
       "      <td>10011</td>\n",
       "      <td>1545000.0</td>\n",
       "    </tr>\n",
       "    <tr>\n",
       "      <td>10012</td>\n",
       "      <td>2087500.0</td>\n",
       "    </tr>\n",
       "    <tr>\n",
       "      <td>10013</td>\n",
       "      <td>3995000.0</td>\n",
       "    </tr>\n",
       "    <tr>\n",
       "      <td>10014</td>\n",
       "      <td>1422500.0</td>\n",
       "    </tr>\n",
       "    <tr>\n",
       "      <td>10016</td>\n",
       "      <td>1250000.0</td>\n",
       "    </tr>\n",
       "    <tr>\n",
       "      <td>10017</td>\n",
       "      <td>895000.0</td>\n",
       "    </tr>\n",
       "    <tr>\n",
       "      <td>10018</td>\n",
       "      <td>795000.0</td>\n",
       "    </tr>\n",
       "    <tr>\n",
       "      <td>10019</td>\n",
       "      <td>1897000.0</td>\n",
       "    </tr>\n",
       "    <tr>\n",
       "      <td>10021</td>\n",
       "      <td>1300000.0</td>\n",
       "    </tr>\n",
       "    <tr>\n",
       "      <td>10022</td>\n",
       "      <td>1195000.0</td>\n",
       "    </tr>\n",
       "    <tr>\n",
       "      <td>10023</td>\n",
       "      <td>1075000.0</td>\n",
       "    </tr>\n",
       "    <tr>\n",
       "      <td>10024</td>\n",
       "      <td>2075000.0</td>\n",
       "    </tr>\n",
       "    <tr>\n",
       "      <td>10025</td>\n",
       "      <td>850000.0</td>\n",
       "    </tr>\n",
       "    <tr>\n",
       "      <td>10026</td>\n",
       "      <td>1107500.0</td>\n",
       "    </tr>\n",
       "    <tr>\n",
       "      <td>10027</td>\n",
       "      <td>1535000.0</td>\n",
       "    </tr>\n",
       "    <tr>\n",
       "      <td>10028</td>\n",
       "      <td>1395000.0</td>\n",
       "    </tr>\n",
       "    <tr>\n",
       "      <td>10029</td>\n",
       "      <td>775000.0</td>\n",
       "    </tr>\n",
       "    <tr>\n",
       "      <td>10030</td>\n",
       "      <td>1115000.0</td>\n",
       "    </tr>\n",
       "    <tr>\n",
       "      <td>10031</td>\n",
       "      <td>599000.0</td>\n",
       "    </tr>\n",
       "    <tr>\n",
       "      <td>10032</td>\n",
       "      <td>599000.0</td>\n",
       "    </tr>\n",
       "    <tr>\n",
       "      <td>10033</td>\n",
       "      <td>625000.0</td>\n",
       "    </tr>\n",
       "    <tr>\n",
       "      <td>10035</td>\n",
       "      <td>812000.0</td>\n",
       "    </tr>\n",
       "    <tr>\n",
       "      <td>10036</td>\n",
       "      <td>1600000.0</td>\n",
       "    </tr>\n",
       "    <tr>\n",
       "      <td>10037</td>\n",
       "      <td>1587497.5</td>\n",
       "    </tr>\n",
       "    <tr>\n",
       "      <td>10038</td>\n",
       "      <td>995000.0</td>\n",
       "    </tr>\n",
       "    <tr>\n",
       "      <td>10039</td>\n",
       "      <td>449000.0</td>\n",
       "    </tr>\n",
       "    <tr>\n",
       "      <td>10040</td>\n",
       "      <td>512000.0</td>\n",
       "    </tr>\n",
       "    <tr>\n",
       "      <td>10044</td>\n",
       "      <td>772500.0</td>\n",
       "    </tr>\n",
       "    <tr>\n",
       "      <td>10065</td>\n",
       "      <td>2100000.0</td>\n",
       "    </tr>\n",
       "    <tr>\n",
       "      <td>10069</td>\n",
       "      <td>3730000.0</td>\n",
       "    </tr>\n",
       "    <tr>\n",
       "      <td>10075</td>\n",
       "      <td>1100000.0</td>\n",
       "    </tr>\n",
       "    <tr>\n",
       "      <td>10128</td>\n",
       "      <td>1395000.0</td>\n",
       "    </tr>\n",
       "    <tr>\n",
       "      <td>10280</td>\n",
       "      <td>767500.0</td>\n",
       "    </tr>\n",
       "    <tr>\n",
       "      <td>10282</td>\n",
       "      <td>2595000.0</td>\n",
       "    </tr>\n",
       "  </tbody>\n",
       "</table>\n",
       "</div>"
      ],
      "text/plain": [
       "             price\n",
       "zipcode           \n",
       "10001    2295000.0\n",
       "10002     870000.0\n",
       "10003    1372500.0\n",
       "10004     856500.0\n",
       "10005    1550000.0\n",
       "10006    1720000.0\n",
       "10007    4495000.0\n",
       "10009    1202500.0\n",
       "10010    1895000.0\n",
       "10011    1545000.0\n",
       "10012    2087500.0\n",
       "10013    3995000.0\n",
       "10014    1422500.0\n",
       "10016    1250000.0\n",
       "10017     895000.0\n",
       "10018     795000.0\n",
       "10019    1897000.0\n",
       "10021    1300000.0\n",
       "10022    1195000.0\n",
       "10023    1075000.0\n",
       "10024    2075000.0\n",
       "10025     850000.0\n",
       "10026    1107500.0\n",
       "10027    1535000.0\n",
       "10028    1395000.0\n",
       "10029     775000.0\n",
       "10030    1115000.0\n",
       "10031     599000.0\n",
       "10032     599000.0\n",
       "10033     625000.0\n",
       "10035     812000.0\n",
       "10036    1600000.0\n",
       "10037    1587497.5\n",
       "10038     995000.0\n",
       "10039     449000.0\n",
       "10040     512000.0\n",
       "10044     772500.0\n",
       "10065    2100000.0\n",
       "10069    3730000.0\n",
       "10075    1100000.0\n",
       "10128    1395000.0\n",
       "10280     767500.0\n",
       "10282    2595000.0"
      ]
     },
     "execution_count": 85,
     "metadata": {},
     "output_type": "execute_result"
    }
   ],
   "source": [
    "#zipcode only useful if figure how to map data\n",
    "group1 = df.groupby('zipcode')\n",
    "print(group1.size()) \n",
    "group1[['price']].median()\n"
   ]
  },
  {
   "cell_type": "code",
   "execution_count": 26,
   "metadata": {},
   "outputs": [
    {
     "data": {
      "text/html": [
       "<div>\n",
       "<style scoped>\n",
       "    .dataframe tbody tr th:only-of-type {\n",
       "        vertical-align: middle;\n",
       "    }\n",
       "\n",
       "    .dataframe tbody tr th {\n",
       "        vertical-align: top;\n",
       "    }\n",
       "\n",
       "    .dataframe thead th {\n",
       "        text-align: right;\n",
       "    }\n",
       "</style>\n",
       "<table border=\"1\" class=\"dataframe\">\n",
       "  <thead>\n",
       "    <tr style=\"text-align: right;\">\n",
       "      <th></th>\n",
       "      <th>price</th>\n",
       "    </tr>\n",
       "  </thead>\n",
       "  <tbody>\n",
       "    <tr>\n",
       "      <td>baths</td>\n",
       "      <td>0.738537</td>\n",
       "    </tr>\n",
       "    <tr>\n",
       "      <td>beds</td>\n",
       "      <td>0.634562</td>\n",
       "    </tr>\n",
       "    <tr>\n",
       "      <td>price</td>\n",
       "      <td>1.000000</td>\n",
       "    </tr>\n",
       "    <tr>\n",
       "      <td>sqft</td>\n",
       "      <td>0.834168</td>\n",
       "    </tr>\n",
       "    <tr>\n",
       "      <td>year_built</td>\n",
       "      <td>-0.076856</td>\n",
       "    </tr>\n",
       "    <tr>\n",
       "      <td>zipcode</td>\n",
       "      <td>-0.025091</td>\n",
       "    </tr>\n",
       "    <tr>\n",
       "      <td>high_payment</td>\n",
       "      <td>1.000000</td>\n",
       "    </tr>\n",
       "    <tr>\n",
       "      <td>low_payment</td>\n",
       "      <td>1.000000</td>\n",
       "    </tr>\n",
       "    <tr>\n",
       "      <td>low_monthly</td>\n",
       "      <td>1.000000</td>\n",
       "    </tr>\n",
       "    <tr>\n",
       "      <td>high_monthly</td>\n",
       "      <td>1.000000</td>\n",
       "    </tr>\n",
       "    <tr>\n",
       "      <td>annual_income_high</td>\n",
       "      <td>1.000000</td>\n",
       "    </tr>\n",
       "    <tr>\n",
       "      <td>annual_income_low</td>\n",
       "      <td>1.000000</td>\n",
       "    </tr>\n",
       "    <tr>\n",
       "      <td>total_rooms</td>\n",
       "      <td>0.708416</td>\n",
       "    </tr>\n",
       "  </tbody>\n",
       "</table>\n",
       "</div>"
      ],
      "text/plain": [
       "                       price\n",
       "baths               0.738537\n",
       "beds                0.634562\n",
       "price               1.000000\n",
       "sqft                0.834168\n",
       "year_built         -0.076856\n",
       "zipcode            -0.025091\n",
       "high_payment        1.000000\n",
       "low_payment         1.000000\n",
       "low_monthly         1.000000\n",
       "high_monthly        1.000000\n",
       "annual_income_high  1.000000\n",
       "annual_income_low   1.000000\n",
       "total_rooms         0.708416"
      ]
     },
     "execution_count": 26,
     "metadata": {},
     "output_type": "execute_result"
    }
   ],
   "source": [
    "#make a pearson correlation  \n",
    "\n",
    "corr_table = df_sqft.corr(method = 'pearson') \n",
    "\n",
    "corr_table[['price']] \n",
    "\n",
    "#price is postiviely correlated with total rooms, and sqft all other variables are weakly correlated "
   ]
  },
  {
   "cell_type": "code",
   "execution_count": 28,
   "metadata": {},
   "outputs": [
    {
     "data": {
      "text/plain": [
       "price                 1.000000\n",
       "sqft                  0.834168\n",
       "year_built           -0.076856\n",
       "zipcode              -0.025091\n",
       "high_payment          1.000000\n",
       "low_payment           1.000000\n",
       "low_monthly           1.000000\n",
       "high_monthly          1.000000\n",
       "annual_income_high    1.000000\n",
       "annual_income_low     1.000000\n",
       "total_rooms           0.708416\n",
       "Name: price, dtype: float64"
      ]
     },
     "execution_count": 28,
     "metadata": {},
     "output_type": "execute_result"
    }
   ],
   "source": [
    "testing = df_sqft.drop('baths', axis = 1).drop('beds', axis = 1) #getting rid of beds and baths does not affect correlation\n",
    "\n",
    "testing.corr(method = 'pearson')['price']"
   ]
  },
  {
   "cell_type": "code",
   "execution_count": null,
   "metadata": {},
   "outputs": [],
   "source": [
    "#looking at the prices now \n",
    "\n"
   ]
  }
 ],
 "metadata": {
  "kernelspec": {
   "display_name": "Python 3",
   "language": "python",
   "name": "python3"
  },
  "language_info": {
   "codemirror_mode": {
    "name": "ipython",
    "version": 3
   },
   "file_extension": ".py",
   "mimetype": "text/x-python",
   "name": "python",
   "nbconvert_exporter": "python",
   "pygments_lexer": "ipython3",
   "version": "3.7.4"
  }
 },
 "nbformat": 4,
 "nbformat_minor": 2
}
